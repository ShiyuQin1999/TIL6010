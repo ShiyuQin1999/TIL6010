{
 "cells": [
  {
   "cell_type": "markdown",
   "metadata": {},
   "source": [
    "## General requirements for the assignment\n",
    "- Make appropriate comments to your code\n",
    "- Use Markdown cells to provide your answers (when applicable)\n",
    "- Add your code when there is the comment \"YOUR CODE HERE\".\n",
    "- Stick to Pep8 standard as much as possible for your coding\n",
    "- Submit through GitHub\n",
    "- Tag the commit as *Final submission of Assignment 1*\n",
    "- Post (interesting) errors in the course Github's issue page\n",
    "  \n",
    "## Assignment Intro\n",
    "In this assignment, you will be working with data imports. Data is provided to you both to be downloaded locally and accessed remotely. The final deliverable for the assignment is this ipython notebook with the executed cells active and submitted through your personal GitHub accounts. You will be importing data, conduct some basic data exploration and finally exporting the data and saving it for future use.  \n",
    "\n",
    "You will be working with this data for the other two GO/NOGO assignments as well. The data is from the Google mobility report. You can find more information about this data here: <https://www.google.com/covid19/mobility/data_documentation.html?hl=en>.\n",
    "\n",
    "### DEADLINE FOR THIS ASSIGNMENT IS 17 SEPTEMBER 2021 BEFORE 23:59\n",
    "\n",
    "<hr />\n"
   ]
  },
  {
   "cell_type": "markdown",
   "metadata": {},
   "source": [
    "## Import libraries\n",
    "Update this list as you go along with the assignment"
   ]
  },
  {
   "cell_type": "code",
   "execution_count": 2,
   "metadata": {},
   "outputs": [],
   "source": [
    "# YOUR CODE HERE\n",
    "# import libraries\n",
    "import os\n",
    "import pandas as pd\n",
    "import html5lib\n",
    "import matplotlib"
   ]
  },
  {
   "cell_type": "markdown",
   "metadata": {},
   "source": [
    "# PART I - Data Import and Export"
   ]
  },
  {
   "cell_type": "markdown",
   "metadata": {},
   "source": [
    "#### 1. Download mobility data from this [link](https://www.google.com/covid19/mobility/), choose *Region CSVs*. From the downloaded data, pick a country to work with. Why did you choose this country?"
   ]
  },
  {
   "cell_type": "code",
   "execution_count": 3,
   "metadata": {},
   "outputs": [],
   "source": [
    "# path to the downloaded data folder, e.g. 'Downloads/Region_Mobility_Report_CSVs/'\n",
    "data_dir = 'C:/Users/TUDelft/TIL6010/Region_Mobility_Report_CSVs/'\n",
    "country_code = 'NL'#just where I am studying\n"
   ]
  },
  {
   "cell_type": "markdown",
   "metadata": {},
   "source": [
    "#### 2. Find the path to the data of your selection. We have prepared some sample code. You need to fill in some parts indicated by 'YOUR CODE HERE'."
   ]
  },
  {
   "cell_type": "code",
   "execution_count": 4,
   "metadata": {},
   "outputs": [
    {
     "name": "stdout",
     "output_type": "stream",
     "text": [
      "Found file name is: 2020_NL_Region_Mobility_Report.csv\n",
      "Path to the file is: C:/Users/TUDelft/TIL6010/Region_Mobility_Report_CSVs/2020_NL_Region_Mobility_Report.csv\n"
     ]
    }
   ],
   "source": [
    "all_files = os.listdir(data_dir)\n",
    "# initilisation\n",
    "target_file_name = ''\n",
    "year = '2020'\n",
    "\n",
    "for file_name in all_files:\n",
    "    # check if this file is for 2020\n",
    "    is_year = file_name[0:4]\n",
    "    # if yes, we check if the file name is for the country that you select\n",
    "    if is_year==year:\n",
    "        # check if the country_code is in the file_name\n",
    "        is_country = file_name[5:7]\n",
    "        if is_country==country_code:\n",
    "            # found the file, save it to 'target_file_name'\n",
    "            target_file_name = file_name\n",
    "            # we stop looking by breaking out of the for loop\n",
    "            break\n",
    "if not target_file_name:\n",
    "    print('File not found. Check your country code (or select a different one)!')\n",
    "else:\n",
    "    print('Found file name is: ' + target_file_name)\n",
    "    # get the path to the file\n",
    "    file_path = 'C:/Users/TUDelft/TIL6010/Region_Mobility_Report_CSVs/'+ target_file_name\n",
    "    print('Path to the file is: ' + file_path)\n"
   ]
  },
  {
   "cell_type": "markdown",
   "metadata": {},
   "source": [
    "#### 3. Import the 2020 data for this country as a pandas data frame and name it as `df_2020`. Print the first 10 lines of `df_2020`"
   ]
  },
  {
   "cell_type": "code",
   "execution_count": 5,
   "metadata": {},
   "outputs": [
    {
     "name": "stdout",
     "output_type": "stream",
     "text": [
      "       country_region_code country_region sub_region_1 sub_region_2  \\\n",
      "110231                  NL    Netherlands      Zeeland        Veere   \n",
      "110232                  NL    Netherlands      Zeeland        Veere   \n",
      "110233                  NL    Netherlands      Zeeland        Veere   \n",
      "110234                  NL    Netherlands      Zeeland        Veere   \n",
      "110235                  NL    Netherlands      Zeeland        Veere   \n",
      "110236                  NL    Netherlands      Zeeland        Veere   \n",
      "110237                  NL    Netherlands      Zeeland        Veere   \n",
      "110238                  NL    Netherlands      Zeeland        Veere   \n",
      "110239                  NL    Netherlands      Zeeland        Veere   \n",
      "110240                  NL    Netherlands      Zeeland        Veere   \n",
      "\n",
      "        metro_area iso_3166_2_code  census_fips_code  \\\n",
      "110231         NaN             NaN               NaN   \n",
      "110232         NaN             NaN               NaN   \n",
      "110233         NaN             NaN               NaN   \n",
      "110234         NaN             NaN               NaN   \n",
      "110235         NaN             NaN               NaN   \n",
      "110236         NaN             NaN               NaN   \n",
      "110237         NaN             NaN               NaN   \n",
      "110238         NaN             NaN               NaN   \n",
      "110239         NaN             NaN               NaN   \n",
      "110240         NaN             NaN               NaN   \n",
      "\n",
      "                           place_id        date  \\\n",
      "110231  ChIJa7uf-GcjxEcRpGJlbS6aq8s  2020-12-22   \n",
      "110232  ChIJa7uf-GcjxEcRpGJlbS6aq8s  2020-12-23   \n",
      "110233  ChIJa7uf-GcjxEcRpGJlbS6aq8s  2020-12-24   \n",
      "110234  ChIJa7uf-GcjxEcRpGJlbS6aq8s  2020-12-25   \n",
      "110235  ChIJa7uf-GcjxEcRpGJlbS6aq8s  2020-12-26   \n",
      "110236  ChIJa7uf-GcjxEcRpGJlbS6aq8s  2020-12-27   \n",
      "110237  ChIJa7uf-GcjxEcRpGJlbS6aq8s  2020-12-28   \n",
      "110238  ChIJa7uf-GcjxEcRpGJlbS6aq8s  2020-12-29   \n",
      "110239  ChIJa7uf-GcjxEcRpGJlbS6aq8s  2020-12-30   \n",
      "110240  ChIJa7uf-GcjxEcRpGJlbS6aq8s  2020-12-31   \n",
      "\n",
      "        retail_and_recreation_percent_change_from_baseline  \\\n",
      "110231                                                NaN    \n",
      "110232                                                NaN    \n",
      "110233                                                NaN    \n",
      "110234                                                NaN    \n",
      "110235                                              -69.0    \n",
      "110236                                                NaN    \n",
      "110237                                                NaN    \n",
      "110238                                                NaN    \n",
      "110239                                                NaN    \n",
      "110240                                                NaN    \n",
      "\n",
      "        grocery_and_pharmacy_percent_change_from_baseline  \\\n",
      "110231                                                NaN   \n",
      "110232                                                NaN   \n",
      "110233                                                NaN   \n",
      "110234                                                NaN   \n",
      "110235                                                NaN   \n",
      "110236                                                NaN   \n",
      "110237                                                NaN   \n",
      "110238                                                NaN   \n",
      "110239                                                NaN   \n",
      "110240                                                NaN   \n",
      "\n",
      "        parks_percent_change_from_baseline  \\\n",
      "110231                                27.0   \n",
      "110232                                 9.0   \n",
      "110233                               -15.0   \n",
      "110234                                 2.0   \n",
      "110235                               -18.0   \n",
      "110236                               -50.0   \n",
      "110237                                63.0   \n",
      "110238                                69.0   \n",
      "110239                                62.0   \n",
      "110240                                21.0   \n",
      "\n",
      "        transit_stations_percent_change_from_baseline  \\\n",
      "110231                                            NaN   \n",
      "110232                                            NaN   \n",
      "110233                                            NaN   \n",
      "110234                                            NaN   \n",
      "110235                                            NaN   \n",
      "110236                                            NaN   \n",
      "110237                                            NaN   \n",
      "110238                                            NaN   \n",
      "110239                                            NaN   \n",
      "110240                                            NaN   \n",
      "\n",
      "        workplaces_percent_change_from_baseline  \\\n",
      "110231                                    -50.0   \n",
      "110232                                    -52.0   \n",
      "110233                                    -58.0   \n",
      "110234                                    -81.0   \n",
      "110235                                    -38.0   \n",
      "110236                                      NaN   \n",
      "110237                                    -60.0   \n",
      "110238                                    -56.0   \n",
      "110239                                    -59.0   \n",
      "110240                                    -62.0   \n",
      "\n",
      "        residential_percent_change_from_baseline  \n",
      "110231                                      13.0  \n",
      "110232                                      15.0  \n",
      "110233                                      19.0  \n",
      "110234                                       NaN  \n",
      "110235                                       NaN  \n",
      "110236                                       NaN  \n",
      "110237                                      17.0  \n",
      "110238                                      17.0  \n",
      "110239                                      15.0  \n",
      "110240                                      17.0  \n"
     ]
    }
   ],
   "source": [
    "# YOUR CODE HERE\n",
    "f=open(file_path)\n",
    "df_2020=pd.read_csv(f)\n",
    "\n",
    "print(df_2020.tail(10))\n"
   ]
  },
  {
   "cell_type": "markdown",
   "metadata": {},
   "source": [
    "#### We have also stored the data in a remote server. The data for a particular country can be retrieved with the following API:\n",
    "`http://mirrors-dev.citg.tudelft.nl:8083/google-mobility-data/{yy}/{CC}` \n",
    "#### where yy is either 2020 or 2021, and CC is a 2-letter country code. For example, to get data for 2020 for the Netherlands, the API will be: <http://mirrors-dev.citg.tudelft.nl:8083/google-mobility-data/2020/NL>\n"
   ]
  },
  {
   "cell_type": "markdown",
   "metadata": {},
   "source": [
    "#### 4. Download the mobility report data of **2021** for the same country (that you have chosen above) using this API and name it as `df_2021`.  Print the first 10 lines of the dataframe"
   ]
  },
  {
   "cell_type": "code",
   "execution_count": 6,
   "metadata": {},
   "outputs": [
    {
     "name": "stdout",
     "output_type": "stream",
     "text": [
      "      country_region_code country_region sub_region_1 sub_region_2  \\\n",
      "88539                  NL    Netherlands      Zeeland        Veere   \n",
      "88540                  NL    Netherlands      Zeeland        Veere   \n",
      "88541                  NL    Netherlands      Zeeland        Veere   \n",
      "88542                  NL    Netherlands      Zeeland        Veere   \n",
      "88543                  NL    Netherlands      Zeeland        Veere   \n",
      "88544                  NL    Netherlands      Zeeland        Veere   \n",
      "88545                  NL    Netherlands      Zeeland        Veere   \n",
      "88546                  NL    Netherlands      Zeeland        Veere   \n",
      "88547                  NL    Netherlands      Zeeland        Veere   \n",
      "88548                  NL    Netherlands      Zeeland        Veere   \n",
      "\n",
      "       metro_area iso_3166_2_code  census_fips_code  \\\n",
      "88539         NaN             NaN               NaN   \n",
      "88540         NaN             NaN               NaN   \n",
      "88541         NaN             NaN               NaN   \n",
      "88542         NaN             NaN               NaN   \n",
      "88543         NaN             NaN               NaN   \n",
      "88544         NaN             NaN               NaN   \n",
      "88545         NaN             NaN               NaN   \n",
      "88546         NaN             NaN               NaN   \n",
      "88547         NaN             NaN               NaN   \n",
      "88548         NaN             NaN               NaN   \n",
      "\n",
      "                          place_id        date  \\\n",
      "88539  ChIJa7uf-GcjxEcRpGJlbS6aq8s  2021-08-23   \n",
      "88540  ChIJa7uf-GcjxEcRpGJlbS6aq8s  2021-08-24   \n",
      "88541  ChIJa7uf-GcjxEcRpGJlbS6aq8s  2021-08-25   \n",
      "88542  ChIJa7uf-GcjxEcRpGJlbS6aq8s  2021-08-26   \n",
      "88543  ChIJa7uf-GcjxEcRpGJlbS6aq8s  2021-08-27   \n",
      "88544  ChIJa7uf-GcjxEcRpGJlbS6aq8s  2021-08-28   \n",
      "88545  ChIJa7uf-GcjxEcRpGJlbS6aq8s  2021-08-29   \n",
      "88546  ChIJa7uf-GcjxEcRpGJlbS6aq8s  2021-08-30   \n",
      "88547  ChIJa7uf-GcjxEcRpGJlbS6aq8s  2021-08-31   \n",
      "88548  ChIJa7uf-GcjxEcRpGJlbS6aq8s  2021-09-01   \n",
      "\n",
      "       retail_and_recreation_percent_change_from_baseline  \\\n",
      "88539                                                NaN    \n",
      "88540                                                NaN    \n",
      "88541                                                NaN    \n",
      "88542                                                NaN    \n",
      "88543                                                NaN    \n",
      "88544                                                NaN    \n",
      "88545                                                NaN    \n",
      "88546                                                NaN    \n",
      "88547                                                NaN    \n",
      "88548                                                NaN    \n",
      "\n",
      "       grocery_and_pharmacy_percent_change_from_baseline  \\\n",
      "88539                                                NaN   \n",
      "88540                                                NaN   \n",
      "88541                                                NaN   \n",
      "88542                                                NaN   \n",
      "88543                                                NaN   \n",
      "88544                                                NaN   \n",
      "88545                                                NaN   \n",
      "88546                                                NaN   \n",
      "88547                                                NaN   \n",
      "88548                                                NaN   \n",
      "\n",
      "       parks_percent_change_from_baseline  \\\n",
      "88539                                 NaN   \n",
      "88540                                 NaN   \n",
      "88541                                 NaN   \n",
      "88542                                 NaN   \n",
      "88543                                 NaN   \n",
      "88544                               311.0   \n",
      "88545                               237.0   \n",
      "88546                                 NaN   \n",
      "88547                                 NaN   \n",
      "88548                                 NaN   \n",
      "\n",
      "       transit_stations_percent_change_from_baseline  \\\n",
      "88539                                            NaN   \n",
      "88540                                            NaN   \n",
      "88541                                            NaN   \n",
      "88542                                            NaN   \n",
      "88543                                            NaN   \n",
      "88544                                            NaN   \n",
      "88545                                            NaN   \n",
      "88546                                            NaN   \n",
      "88547                                            NaN   \n",
      "88548                                            NaN   \n",
      "\n",
      "       workplaces_percent_change_from_baseline  \\\n",
      "88539                                    -29.0   \n",
      "88540                                    -24.0   \n",
      "88541                                    -29.0   \n",
      "88542                                    -29.0   \n",
      "88543                                    -23.0   \n",
      "88544                                      NaN   \n",
      "88545                                      NaN   \n",
      "88546                                    -20.0   \n",
      "88547                                    -15.0   \n",
      "88548                                    -19.0   \n",
      "\n",
      "       residential_percent_change_from_baseline  \n",
      "88539                                       4.0  \n",
      "88540                                       3.0  \n",
      "88541                                       4.0  \n",
      "88542                                       6.0  \n",
      "88543                                       3.0  \n",
      "88544                                       NaN  \n",
      "88545                                       NaN  \n",
      "88546                                       4.0  \n",
      "88547                                       3.0  \n",
      "88548                                       3.0  \n"
     ]
    }
   ],
   "source": [
    "# YOUR CODE HERE\n",
    "yy='/2021'\n",
    "cc='/NL'\n",
    "fs='http://mirrors-dev.citg.tudelft.nl:8083/google-mobility-data'+yy+cc\n",
    "df_2021=pd.read_csv(fs,sep=',',header='infer')\n",
    "#df_2021_r=pd.read_fwf(fs,encoding='utf-8')\n",
    "#df_2021=pd.DataFrame(df_2021_r['country_region_code,country_region,sub_region_1,sub_region_2,metro_area,iso_3166_2_code,census_fips_code,place_id,date,retail_and_recreation_percent_change_from_baseline,grocery_and_pharmacy_percent_change_from_baseline,parks_percent_change_from_baseline,transit_stations_percent_change_from_baseline,workplaces_percent_change_from_baseline,residential_percent_change_from_baseline'].str.split(\",\",expand=True))\n",
    "#df_2021=df_2021.drop(df_2021.columns[15],axis=1)\n",
    "print(df_2021.tail(10))"
   ]
  },
  {
   "cell_type": "markdown",
   "metadata": {},
   "source": [
    "#### 5. Combine the two dataframes `df_2020` and `df_2021` into a new dataframe `df`. Print the last 10 lines of `df`."
   ]
  },
  {
   "cell_type": "code",
   "execution_count": 7,
   "metadata": {},
   "outputs": [
    {
     "name": "stdout",
     "output_type": "stream",
     "text": [
      "       country_region_code country_region sub_region_1 sub_region_2  \\\n",
      "198780                  NL    Netherlands      Zeeland        Veere   \n",
      "198781                  NL    Netherlands      Zeeland        Veere   \n",
      "198782                  NL    Netherlands      Zeeland        Veere   \n",
      "198783                  NL    Netherlands      Zeeland        Veere   \n",
      "198784                  NL    Netherlands      Zeeland        Veere   \n",
      "198785                  NL    Netherlands      Zeeland        Veere   \n",
      "198786                  NL    Netherlands      Zeeland        Veere   \n",
      "198787                  NL    Netherlands      Zeeland        Veere   \n",
      "198788                  NL    Netherlands      Zeeland        Veere   \n",
      "198789                  NL    Netherlands      Zeeland        Veere   \n",
      "\n",
      "        metro_area iso_3166_2_code  census_fips_code  \\\n",
      "198780         NaN             NaN               NaN   \n",
      "198781         NaN             NaN               NaN   \n",
      "198782         NaN             NaN               NaN   \n",
      "198783         NaN             NaN               NaN   \n",
      "198784         NaN             NaN               NaN   \n",
      "198785         NaN             NaN               NaN   \n",
      "198786         NaN             NaN               NaN   \n",
      "198787         NaN             NaN               NaN   \n",
      "198788         NaN             NaN               NaN   \n",
      "198789         NaN             NaN               NaN   \n",
      "\n",
      "                           place_id        date  \\\n",
      "198780  ChIJa7uf-GcjxEcRpGJlbS6aq8s  2021-08-23   \n",
      "198781  ChIJa7uf-GcjxEcRpGJlbS6aq8s  2021-08-24   \n",
      "198782  ChIJa7uf-GcjxEcRpGJlbS6aq8s  2021-08-25   \n",
      "198783  ChIJa7uf-GcjxEcRpGJlbS6aq8s  2021-08-26   \n",
      "198784  ChIJa7uf-GcjxEcRpGJlbS6aq8s  2021-08-27   \n",
      "198785  ChIJa7uf-GcjxEcRpGJlbS6aq8s  2021-08-28   \n",
      "198786  ChIJa7uf-GcjxEcRpGJlbS6aq8s  2021-08-29   \n",
      "198787  ChIJa7uf-GcjxEcRpGJlbS6aq8s  2021-08-30   \n",
      "198788  ChIJa7uf-GcjxEcRpGJlbS6aq8s  2021-08-31   \n",
      "198789  ChIJa7uf-GcjxEcRpGJlbS6aq8s  2021-09-01   \n",
      "\n",
      "        retail_and_recreation_percent_change_from_baseline  \\\n",
      "198780                                                NaN    \n",
      "198781                                                NaN    \n",
      "198782                                                NaN    \n",
      "198783                                                NaN    \n",
      "198784                                                NaN    \n",
      "198785                                                NaN    \n",
      "198786                                                NaN    \n",
      "198787                                                NaN    \n",
      "198788                                                NaN    \n",
      "198789                                                NaN    \n",
      "\n",
      "        grocery_and_pharmacy_percent_change_from_baseline  \\\n",
      "198780                                                NaN   \n",
      "198781                                                NaN   \n",
      "198782                                                NaN   \n",
      "198783                                                NaN   \n",
      "198784                                                NaN   \n",
      "198785                                                NaN   \n",
      "198786                                                NaN   \n",
      "198787                                                NaN   \n",
      "198788                                                NaN   \n",
      "198789                                                NaN   \n",
      "\n",
      "        parks_percent_change_from_baseline  \\\n",
      "198780                                 NaN   \n",
      "198781                                 NaN   \n",
      "198782                                 NaN   \n",
      "198783                                 NaN   \n",
      "198784                                 NaN   \n",
      "198785                               311.0   \n",
      "198786                               237.0   \n",
      "198787                                 NaN   \n",
      "198788                                 NaN   \n",
      "198789                                 NaN   \n",
      "\n",
      "        transit_stations_percent_change_from_baseline  \\\n",
      "198780                                            NaN   \n",
      "198781                                            NaN   \n",
      "198782                                            NaN   \n",
      "198783                                            NaN   \n",
      "198784                                            NaN   \n",
      "198785                                            NaN   \n",
      "198786                                            NaN   \n",
      "198787                                            NaN   \n",
      "198788                                            NaN   \n",
      "198789                                            NaN   \n",
      "\n",
      "        workplaces_percent_change_from_baseline  \\\n",
      "198780                                    -29.0   \n",
      "198781                                    -24.0   \n",
      "198782                                    -29.0   \n",
      "198783                                    -29.0   \n",
      "198784                                    -23.0   \n",
      "198785                                      NaN   \n",
      "198786                                      NaN   \n",
      "198787                                    -20.0   \n",
      "198788                                    -15.0   \n",
      "198789                                    -19.0   \n",
      "\n",
      "        residential_percent_change_from_baseline  \n",
      "198780                                       4.0  \n",
      "198781                                       3.0  \n",
      "198782                                       4.0  \n",
      "198783                                       6.0  \n",
      "198784                                       3.0  \n",
      "198785                                       NaN  \n",
      "198786                                       NaN  \n",
      "198787                                       4.0  \n",
      "198788                                       3.0  \n",
      "198789                                       3.0  \n"
     ]
    }
   ],
   "source": [
    "# YOUR CODE HERE\n",
    "df=pd.merge(df_2020,df_2021,how='outer')\n",
    "#df=df_2020.append(df_2021)\n",
    "#df=df_2020.join(df_2021)\n",
    "#df=pd.concat([df_2021,df_2020])\n",
    "#df1=df.drop(df.columns[0:15],axis=1)\n",
    "print(df.tail(10))"
   ]
  },
  {
   "cell_type": "markdown",
   "metadata": {},
   "source": [
    "#### 6. `df` now contains mobility data for your selected country from 2020 and 2021. There are three aggregation levels to this data, namely national (`country_region`), provincial (`sub_region_1`), and city (`sub_region_2`). Separate these data into three different dataframes, namely `df_nation`, `df_province`, and `df_city`.  Print the first 5 lines of each of them.  \n",
    "\n",
    "Hint:\n",
    "- For the national data, `sub_region_1` and `sub_region_2` are NaN.\n",
    "- For the provincial data, `sub_region_2` is NaN.\n",
    "- For the city data, `country_region`, `sub_region_1` and `sub_region_2` are not NaN.\n",
    "- Logical operators: <https://realpython.com/python-bitwise-operators/>\n",
    "- Use pandas [isna()](https://pandas.pydata.org/docs/reference/api/pandas.DataFrame.isna.html) function "
   ]
  },
  {
   "cell_type": "code",
   "execution_count": 8,
   "metadata": {},
   "outputs": [
    {
     "name": "stdout",
     "output_type": "stream",
     "text": [
      "<class 'pandas.core.frame.DataFrame'>\n"
     ]
    }
   ],
   "source": [
    "# YOUR CODE HERE\n",
    "df_N=df['sub_region_1'].isna() & df['sub_region_2'].isna()\n",
    "df_P=df['sub_region_1'].isna() ^ df['sub_region_2'].isna()\n",
    "df_CA=df['sub_region_1'].isna()==False \n",
    "df_CB=df[df_CA]\n",
    "df_C=df_CB['sub_region_2'].isna()==False \n",
    "df_D=[df['sub_region_1'].isna() ]\n",
    "#print(df_C)\n",
    "df_nation=df[df_N]\n",
    "df_province=df[df_P]\n",
    "df_city=df_CB[df_C]\n",
    "print(type(df_nation))"
   ]
  },
  {
   "cell_type": "markdown",
   "metadata": {},
   "source": [
    "#### 7. Save `df_nation`, `df_province`, and `df_city` into csv files under folder 'processed_data', and locate this folder under `data_dir`. Name the files `{CC}_nation.csv`, `{CC}_province.csv`, and `{CC}_city.csv`, respectively. `{CC}` stands for your selected country code."
   ]
  },
  {
   "cell_type": "code",
   "execution_count": 9,
   "metadata": {},
   "outputs": [],
   "source": [
    "# YOUR CODE HERE\n",
    "df_nation.to_csv(r'C:\\Users\\shiyu'+cc+'_nation.csv')\n",
    "df_province.to_csv(r'C:\\Users\\shiyu'+cc+'_province.csv')\n",
    "df_city.to_csv(r'C:\\Users\\shiyu'+cc+'_city.csv')\n",
    "#df_nation.to_csv(data_dir+cc+'_nation.csv')"
   ]
  },
  {
   "cell_type": "markdown",
   "metadata": {},
   "source": [
    "<hr />"
   ]
  },
  {
   "cell_type": "markdown",
   "metadata": {},
   "source": [
    "# PART II - Simple Data Processing"
   ]
  },
  {
   "cell_type": "markdown",
   "metadata": {},
   "source": [
    "#### 1. There are multiple activities in the mobility report such as workplaces, parks, transit stations, etc. For each of the activities, what are the average percent changes from baselines for your selected country?"
   ]
  },
  {
   "cell_type": "code",
   "execution_count": 10,
   "metadata": {},
   "outputs": [
    {
     "name": "stdout",
     "output_type": "stream",
     "text": [
      "{'retail_and_recreation_percent_change_from_baseline': -21.038938053097347, 'grocery_and_pharmacy_percent_change_from_baseline': -1.1061946902654867, 'parks_percent_change_from_baseline': 74.98761061946902, 'transit_stations_percent_change_from_baseline': -40.83716814159292, 'workplaces_percent_change_from_baseline': -25.191150442477877, 'residential_percent_change_from_baseline': 8.375221238938053}\n"
     ]
    }
   ],
   "source": [
    "# YOUR CODE HERE\n",
    "ind=df_nation.columns\n",
    "#print(ind)\n",
    "mean_dict={}\n",
    "for i in range(9,15):\n",
    "    mean_dict[ind[i]]=df_nation[ind[i]].mean()\n",
    "#meanc=df_nation['retail_and_recreation_percent_change_from_baseline'].mean()\n",
    "print(mean_dict)"
   ]
  },
  {
   "cell_type": "markdown",
   "metadata": {},
   "source": [
    "#### 2. Let's look into data from different provinces. How many provinces are there in the data of your selected country? Print all of them."
   ]
  },
  {
   "cell_type": "code",
   "execution_count": 11,
   "metadata": {},
   "outputs": [
    {
     "name": "stdout",
     "output_type": "stream",
     "text": [
      "['Drenthe', 'Flevoland', 'Friesland', 'Gelderland', 'Groningen', 'Limburg', 'North Brabant', 'North Holland', 'Overijssel', 'South Holland', 'Utrecht', 'Zeeland']\n"
     ]
    }
   ],
   "source": [
    "# YOUR CODE HERE\n",
    "prolist=[]\n",
    "for pros in df_province['sub_region_1']:\n",
    "    if pros not in prolist:\n",
    "        prolist.append(pros)\n",
    "print(prolist)"
   ]
  },
  {
   "cell_type": "markdown",
   "metadata": {},
   "source": [
    "#### 3. You can get a summary of each of the provinces using pandas describe function. Using this, find which province experienced the largest (average) changes in workplaces."
   ]
  },
  {
   "cell_type": "code",
   "execution_count": 12,
   "metadata": {},
   "outputs": [
    {
     "name": "stdout",
     "output_type": "stream",
     "text": [
      "[-29.81061946902655, -29.624778761061947, -26.939823008849558, -26.530249110320284, -25.41061946902655, -24.27787610619469, -22.597864768683273, -22.405309734513274, -21.831858407079647, -21.71858407079646, -21.253097345132744, -20.368327402135233]\n",
      "Utrecht\n"
     ]
    }
   ],
   "source": [
    "# YOUR CODE HERE\n",
    "meanWpro={}\n",
    "meanWproV=[]\n",
    "for pros in prolist:\n",
    "    dfp0=df_province[df_province['sub_region_1']==pros]\n",
    "    meanWpro[dfp0['workplaces_percent_change_from_baseline'].mean()]=pros\n",
    "    meanWproV.append(dfp0['workplaces_percent_change_from_baseline'].mean())\n",
    "meanWproV.sort()\n",
    "print(meanWproV)\n",
    "lwcp=meanWpro[meanWproV[0]]\n",
    "print(lwcp)"
   ]
  },
  {
   "cell_type": "markdown",
   "metadata": {},
   "source": [
    "#### 4. Create a new dataframe that only contains data from the province with the largest changes in workplaces, which you found in the previous question."
   ]
  },
  {
   "cell_type": "code",
   "execution_count": 13,
   "metadata": {},
   "outputs": [
    {
     "name": "stdout",
     "output_type": "stream",
     "text": [
      "       country_region_code country_region sub_region_1 sub_region_2  \\\n",
      "98786                   NL    Netherlands      Utrecht          NaN   \n",
      "98787                   NL    Netherlands      Utrecht          NaN   \n",
      "98788                   NL    Netherlands      Utrecht          NaN   \n",
      "98789                   NL    Netherlands      Utrecht          NaN   \n",
      "98790                   NL    Netherlands      Utrecht          NaN   \n",
      "...                    ...            ...          ...          ...   \n",
      "189745                  NL    Netherlands      Utrecht          NaN   \n",
      "189746                  NL    Netherlands      Utrecht          NaN   \n",
      "189747                  NL    Netherlands      Utrecht          NaN   \n",
      "189748                  NL    Netherlands      Utrecht          NaN   \n",
      "189749                  NL    Netherlands      Utrecht          NaN   \n",
      "\n",
      "        metro_area iso_3166_2_code  census_fips_code  \\\n",
      "98786          NaN           NL-UT               NaN   \n",
      "98787          NaN           NL-UT               NaN   \n",
      "98788          NaN           NL-UT               NaN   \n",
      "98789          NaN           NL-UT               NaN   \n",
      "98790          NaN           NL-UT               NaN   \n",
      "...            ...             ...               ...   \n",
      "189745         NaN           NL-UT               NaN   \n",
      "189746         NaN           NL-UT               NaN   \n",
      "189747         NaN           NL-UT               NaN   \n",
      "189748         NaN           NL-UT               NaN   \n",
      "189749         NaN           NL-UT               NaN   \n",
      "\n",
      "                           place_id        date  \\\n",
      "98786   ChIJPzM8M01oxkcRsFwejVreAAM  2020-02-15   \n",
      "98787   ChIJPzM8M01oxkcRsFwejVreAAM  2020-02-16   \n",
      "98788   ChIJPzM8M01oxkcRsFwejVreAAM  2020-02-17   \n",
      "98789   ChIJPzM8M01oxkcRsFwejVreAAM  2020-02-18   \n",
      "98790   ChIJPzM8M01oxkcRsFwejVreAAM  2020-02-19   \n",
      "...                             ...         ...   \n",
      "189745  ChIJPzM8M01oxkcRsFwejVreAAM  2021-08-28   \n",
      "189746  ChIJPzM8M01oxkcRsFwejVreAAM  2021-08-29   \n",
      "189747  ChIJPzM8M01oxkcRsFwejVreAAM  2021-08-30   \n",
      "189748  ChIJPzM8M01oxkcRsFwejVreAAM  2021-08-31   \n",
      "189749  ChIJPzM8M01oxkcRsFwejVreAAM  2021-09-01   \n",
      "\n",
      "        retail_and_recreation_percent_change_from_baseline  \\\n",
      "98786                                                 8.0    \n",
      "98787                                                -5.0    \n",
      "98788                                                 2.0    \n",
      "98789                                                 4.0    \n",
      "98790                                                 6.0    \n",
      "...                                                   ...    \n",
      "189745                                               -8.0    \n",
      "189746                                                0.0    \n",
      "189747                                               10.0    \n",
      "189748                                                7.0    \n",
      "189749                                                6.0    \n",
      "\n",
      "        grocery_and_pharmacy_percent_change_from_baseline  \\\n",
      "98786                                                 0.0   \n",
      "98787                                               -10.0   \n",
      "98788                                                -1.0   \n",
      "98789                                                 3.0   \n",
      "98790                                                -1.0   \n",
      "...                                                   ...   \n",
      "189745                                               -1.0   \n",
      "189746                                                2.0   \n",
      "189747                                                8.0   \n",
      "189748                                               11.0   \n",
      "189749                                                7.0   \n",
      "\n",
      "        parks_percent_change_from_baseline  \\\n",
      "98786                                  3.0   \n",
      "98787                                -22.0   \n",
      "98788                                  2.0   \n",
      "98789                                 12.0   \n",
      "98790                                 12.0   \n",
      "...                                    ...   \n",
      "189745                                50.0   \n",
      "189746                                22.0   \n",
      "189747                                66.0   \n",
      "189748                                90.0   \n",
      "189749                                80.0   \n",
      "\n",
      "        transit_stations_percent_change_from_baseline  \\\n",
      "98786                                             9.0   \n",
      "98787                                            14.0   \n",
      "98788                                             3.0   \n",
      "98789                                             0.0   \n",
      "98790                                            -2.0   \n",
      "...                                               ...   \n",
      "189745                                          -22.0   \n",
      "189746                                          -16.0   \n",
      "189747                                          -41.0   \n",
      "189748                                          -38.0   \n",
      "189749                                          -33.0   \n",
      "\n",
      "        workplaces_percent_change_from_baseline  \\\n",
      "98786                                      -1.0   \n",
      "98787                                      -3.0   \n",
      "98788                                       1.0   \n",
      "98789                                       2.0   \n",
      "98790                                       1.0   \n",
      "...                                         ...   \n",
      "189745                                      2.0   \n",
      "189746                                      9.0   \n",
      "189747                                    -41.0   \n",
      "189748                                    -36.0   \n",
      "189749                                    -34.0   \n",
      "\n",
      "        residential_percent_change_from_baseline  \n",
      "98786                                        0.0  \n",
      "98787                                        1.0  \n",
      "98788                                        0.0  \n",
      "98789                                        0.0  \n",
      "98790                                        0.0  \n",
      "...                                          ...  \n",
      "189745                                       0.0  \n",
      "189746                                       1.0  \n",
      "189747                                       9.0  \n",
      "189748                                       8.0  \n",
      "189749                                       6.0  \n",
      "\n",
      "[565 rows x 15 columns]\n"
     ]
    }
   ],
   "source": [
    "# YOUR CODE HERE\n",
    "df_lwcp=df_province[df_province['sub_region_1']==lwcp]\n",
    "print(df_lwcp)"
   ]
  },
  {
   "cell_type": "markdown",
   "metadata": {},
   "source": [
    "#### 5. We're going to look at the changes of this province over time. As you can see, the column date is in string format. Convert this str date column data str to datetime format and append as an extra column called 'date2' to the dataframe.  \n",
    "Hint: <https://pandas.pydata.org/docs/reference/api/pandas.to_datetime.html>"
   ]
  },
  {
   "cell_type": "code",
   "execution_count": 14,
   "metadata": {},
   "outputs": [
    {
     "name": "stdout",
     "output_type": "stream",
     "text": [
      "       country_region_code country_region sub_region_1 sub_region_2  \\\n",
      "98786                   NL    Netherlands      Utrecht          NaN   \n",
      "98787                   NL    Netherlands      Utrecht          NaN   \n",
      "98788                   NL    Netherlands      Utrecht          NaN   \n",
      "98789                   NL    Netherlands      Utrecht          NaN   \n",
      "98790                   NL    Netherlands      Utrecht          NaN   \n",
      "...                    ...            ...          ...          ...   \n",
      "189745                  NL    Netherlands      Utrecht          NaN   \n",
      "189746                  NL    Netherlands      Utrecht          NaN   \n",
      "189747                  NL    Netherlands      Utrecht          NaN   \n",
      "189748                  NL    Netherlands      Utrecht          NaN   \n",
      "189749                  NL    Netherlands      Utrecht          NaN   \n",
      "\n",
      "        metro_area iso_3166_2_code  census_fips_code  \\\n",
      "98786          NaN           NL-UT               NaN   \n",
      "98787          NaN           NL-UT               NaN   \n",
      "98788          NaN           NL-UT               NaN   \n",
      "98789          NaN           NL-UT               NaN   \n",
      "98790          NaN           NL-UT               NaN   \n",
      "...            ...             ...               ...   \n",
      "189745         NaN           NL-UT               NaN   \n",
      "189746         NaN           NL-UT               NaN   \n",
      "189747         NaN           NL-UT               NaN   \n",
      "189748         NaN           NL-UT               NaN   \n",
      "189749         NaN           NL-UT               NaN   \n",
      "\n",
      "                           place_id        date  \\\n",
      "98786   ChIJPzM8M01oxkcRsFwejVreAAM  2020-02-15   \n",
      "98787   ChIJPzM8M01oxkcRsFwejVreAAM  2020-02-16   \n",
      "98788   ChIJPzM8M01oxkcRsFwejVreAAM  2020-02-17   \n",
      "98789   ChIJPzM8M01oxkcRsFwejVreAAM  2020-02-18   \n",
      "98790   ChIJPzM8M01oxkcRsFwejVreAAM  2020-02-19   \n",
      "...                             ...         ...   \n",
      "189745  ChIJPzM8M01oxkcRsFwejVreAAM  2021-08-28   \n",
      "189746  ChIJPzM8M01oxkcRsFwejVreAAM  2021-08-29   \n",
      "189747  ChIJPzM8M01oxkcRsFwejVreAAM  2021-08-30   \n",
      "189748  ChIJPzM8M01oxkcRsFwejVreAAM  2021-08-31   \n",
      "189749  ChIJPzM8M01oxkcRsFwejVreAAM  2021-09-01   \n",
      "\n",
      "        retail_and_recreation_percent_change_from_baseline  \\\n",
      "98786                                                 8.0    \n",
      "98787                                                -5.0    \n",
      "98788                                                 2.0    \n",
      "98789                                                 4.0    \n",
      "98790                                                 6.0    \n",
      "...                                                   ...    \n",
      "189745                                               -8.0    \n",
      "189746                                                0.0    \n",
      "189747                                               10.0    \n",
      "189748                                                7.0    \n",
      "189749                                                6.0    \n",
      "\n",
      "        grocery_and_pharmacy_percent_change_from_baseline  \\\n",
      "98786                                                 0.0   \n",
      "98787                                               -10.0   \n",
      "98788                                                -1.0   \n",
      "98789                                                 3.0   \n",
      "98790                                                -1.0   \n",
      "...                                                   ...   \n",
      "189745                                               -1.0   \n",
      "189746                                                2.0   \n",
      "189747                                                8.0   \n",
      "189748                                               11.0   \n",
      "189749                                                7.0   \n",
      "\n",
      "        parks_percent_change_from_baseline  \\\n",
      "98786                                  3.0   \n",
      "98787                                -22.0   \n",
      "98788                                  2.0   \n",
      "98789                                 12.0   \n",
      "98790                                 12.0   \n",
      "...                                    ...   \n",
      "189745                                50.0   \n",
      "189746                                22.0   \n",
      "189747                                66.0   \n",
      "189748                                90.0   \n",
      "189749                                80.0   \n",
      "\n",
      "        transit_stations_percent_change_from_baseline  \\\n",
      "98786                                             9.0   \n",
      "98787                                            14.0   \n",
      "98788                                             3.0   \n",
      "98789                                             0.0   \n",
      "98790                                            -2.0   \n",
      "...                                               ...   \n",
      "189745                                          -22.0   \n",
      "189746                                          -16.0   \n",
      "189747                                          -41.0   \n",
      "189748                                          -38.0   \n",
      "189749                                          -33.0   \n",
      "\n",
      "        workplaces_percent_change_from_baseline  \\\n",
      "98786                                      -1.0   \n",
      "98787                                      -3.0   \n",
      "98788                                       1.0   \n",
      "98789                                       2.0   \n",
      "98790                                       1.0   \n",
      "...                                         ...   \n",
      "189745                                      2.0   \n",
      "189746                                      9.0   \n",
      "189747                                    -41.0   \n",
      "189748                                    -36.0   \n",
      "189749                                    -34.0   \n",
      "\n",
      "        residential_percent_change_from_baseline      date2  \n",
      "98786                                        0.0 2020-02-15  \n",
      "98787                                        1.0 2020-02-16  \n",
      "98788                                        0.0 2020-02-17  \n",
      "98789                                        0.0 2020-02-18  \n",
      "98790                                        0.0 2020-02-19  \n",
      "...                                          ...        ...  \n",
      "189745                                       0.0 2021-08-28  \n",
      "189746                                       1.0 2021-08-29  \n",
      "189747                                       9.0 2021-08-30  \n",
      "189748                                       8.0 2021-08-31  \n",
      "189749                                       6.0 2021-09-01  \n",
      "\n",
      "[565 rows x 16 columns]\n"
     ]
    },
    {
     "name": "stderr",
     "output_type": "stream",
     "text": [
      "c:\\users\\shiyu\\appdata\\local\\programs\\python\\python37\\lib\\site-packages\\ipykernel_launcher.py:9: SettingWithCopyWarning: \n",
      "A value is trying to be set on a copy of a slice from a DataFrame.\n",
      "Try using .loc[row_indexer,col_indexer] = value instead\n",
      "\n",
      "See the caveats in the documentation: https://pandas.pydata.org/pandas-docs/stable/user_guide/indexing.html#returning-a-view-versus-a-copy\n",
      "  if __name__ == '__main__':\n"
     ]
    }
   ],
   "source": [
    "# YOUR CODE HERE\n",
    "import datetime\n",
    "cdte=[]\n",
    "for dates in df_lwcp['date']:\n",
    "    cdate=datetime.datetime.strptime(dates,'%Y-%m-%d')\n",
    "    #df_lwcp['date2']=cdate\n",
    "    cdte.append(cdate)\n",
    "#print(cdte)\n",
    "df_lwcp['date2']=cdte\n",
    "print(df_lwcp)"
   ]
  },
  {
   "cell_type": "markdown",
   "metadata": {},
   "source": [
    "#### 6. Sort the data in ascending order of time and save it as 'df_province_largest'"
   ]
  },
  {
   "cell_type": "code",
   "execution_count": 15,
   "metadata": {},
   "outputs": [
    {
     "name": "stdout",
     "output_type": "stream",
     "text": [
      "       country_region_code country_region sub_region_1 sub_region_2  \\\n",
      "98786                   NL    Netherlands      Utrecht          NaN   \n",
      "98787                   NL    Netherlands      Utrecht          NaN   \n",
      "98788                   NL    Netherlands      Utrecht          NaN   \n",
      "98789                   NL    Netherlands      Utrecht          NaN   \n",
      "98790                   NL    Netherlands      Utrecht          NaN   \n",
      "...                    ...            ...          ...          ...   \n",
      "189745                  NL    Netherlands      Utrecht          NaN   \n",
      "189746                  NL    Netherlands      Utrecht          NaN   \n",
      "189747                  NL    Netherlands      Utrecht          NaN   \n",
      "189748                  NL    Netherlands      Utrecht          NaN   \n",
      "189749                  NL    Netherlands      Utrecht          NaN   \n",
      "\n",
      "        metro_area iso_3166_2_code  census_fips_code  \\\n",
      "98786          NaN           NL-UT               NaN   \n",
      "98787          NaN           NL-UT               NaN   \n",
      "98788          NaN           NL-UT               NaN   \n",
      "98789          NaN           NL-UT               NaN   \n",
      "98790          NaN           NL-UT               NaN   \n",
      "...            ...             ...               ...   \n",
      "189745         NaN           NL-UT               NaN   \n",
      "189746         NaN           NL-UT               NaN   \n",
      "189747         NaN           NL-UT               NaN   \n",
      "189748         NaN           NL-UT               NaN   \n",
      "189749         NaN           NL-UT               NaN   \n",
      "\n",
      "                           place_id        date  \\\n",
      "98786   ChIJPzM8M01oxkcRsFwejVreAAM  2020-02-15   \n",
      "98787   ChIJPzM8M01oxkcRsFwejVreAAM  2020-02-16   \n",
      "98788   ChIJPzM8M01oxkcRsFwejVreAAM  2020-02-17   \n",
      "98789   ChIJPzM8M01oxkcRsFwejVreAAM  2020-02-18   \n",
      "98790   ChIJPzM8M01oxkcRsFwejVreAAM  2020-02-19   \n",
      "...                             ...         ...   \n",
      "189745  ChIJPzM8M01oxkcRsFwejVreAAM  2021-08-28   \n",
      "189746  ChIJPzM8M01oxkcRsFwejVreAAM  2021-08-29   \n",
      "189747  ChIJPzM8M01oxkcRsFwejVreAAM  2021-08-30   \n",
      "189748  ChIJPzM8M01oxkcRsFwejVreAAM  2021-08-31   \n",
      "189749  ChIJPzM8M01oxkcRsFwejVreAAM  2021-09-01   \n",
      "\n",
      "        retail_and_recreation_percent_change_from_baseline  \\\n",
      "98786                                                 8.0    \n",
      "98787                                                -5.0    \n",
      "98788                                                 2.0    \n",
      "98789                                                 4.0    \n",
      "98790                                                 6.0    \n",
      "...                                                   ...    \n",
      "189745                                               -8.0    \n",
      "189746                                                0.0    \n",
      "189747                                               10.0    \n",
      "189748                                                7.0    \n",
      "189749                                                6.0    \n",
      "\n",
      "        grocery_and_pharmacy_percent_change_from_baseline  \\\n",
      "98786                                                 0.0   \n",
      "98787                                               -10.0   \n",
      "98788                                                -1.0   \n",
      "98789                                                 3.0   \n",
      "98790                                                -1.0   \n",
      "...                                                   ...   \n",
      "189745                                               -1.0   \n",
      "189746                                                2.0   \n",
      "189747                                                8.0   \n",
      "189748                                               11.0   \n",
      "189749                                                7.0   \n",
      "\n",
      "        parks_percent_change_from_baseline  \\\n",
      "98786                                  3.0   \n",
      "98787                                -22.0   \n",
      "98788                                  2.0   \n",
      "98789                                 12.0   \n",
      "98790                                 12.0   \n",
      "...                                    ...   \n",
      "189745                                50.0   \n",
      "189746                                22.0   \n",
      "189747                                66.0   \n",
      "189748                                90.0   \n",
      "189749                                80.0   \n",
      "\n",
      "        transit_stations_percent_change_from_baseline  \\\n",
      "98786                                             9.0   \n",
      "98787                                            14.0   \n",
      "98788                                             3.0   \n",
      "98789                                             0.0   \n",
      "98790                                            -2.0   \n",
      "...                                               ...   \n",
      "189745                                          -22.0   \n",
      "189746                                          -16.0   \n",
      "189747                                          -41.0   \n",
      "189748                                          -38.0   \n",
      "189749                                          -33.0   \n",
      "\n",
      "        workplaces_percent_change_from_baseline  \\\n",
      "98786                                      -1.0   \n",
      "98787                                      -3.0   \n",
      "98788                                       1.0   \n",
      "98789                                       2.0   \n",
      "98790                                       1.0   \n",
      "...                                         ...   \n",
      "189745                                      2.0   \n",
      "189746                                      9.0   \n",
      "189747                                    -41.0   \n",
      "189748                                    -36.0   \n",
      "189749                                    -34.0   \n",
      "\n",
      "        residential_percent_change_from_baseline      date2  \n",
      "98786                                        0.0 2020-02-15  \n",
      "98787                                        1.0 2020-02-16  \n",
      "98788                                        0.0 2020-02-17  \n",
      "98789                                        0.0 2020-02-18  \n",
      "98790                                        0.0 2020-02-19  \n",
      "...                                          ...        ...  \n",
      "189745                                       0.0 2021-08-28  \n",
      "189746                                       1.0 2021-08-29  \n",
      "189747                                       9.0 2021-08-30  \n",
      "189748                                       8.0 2021-08-31  \n",
      "189749                                       6.0 2021-09-01  \n",
      "\n",
      "[565 rows x 16 columns]\n"
     ]
    }
   ],
   "source": [
    "# YOUR CODE HERE\n",
    "df_province_largest=df_lwcp.sort_values('date2')\n",
    "print(df_province_largest)"
   ]
  },
  {
   "cell_type": "code",
   "execution_count": 16,
   "metadata": {
    "scrolled": true
   },
   "outputs": [
    {
     "data": {
      "text/plain": [
       "<AxesSubplot:xlabel='date'>"
      ]
     },
     "execution_count": 16,
     "metadata": {},
     "output_type": "execute_result"
    },
    {
     "data": {
      "image/png": "[encoded data removed]",
      "text/plain": [
       "<Figure size 432x288 with 1 Axes>"
      ]
     },
     "metadata": {
      "needs_background": "light"
     },
     "output_type": "display_data"
    }
   ],
   "source": [
    "# Execute the cell with the following command to visualize the results\n",
    "df_province_largest.plot('date', 'workplaces_percent_change_from_baseline')\n",
    "\n"
   ]
  },
  {
   "cell_type": "code",
   "execution_count": 17,
   "metadata": {},
   "outputs": [
    {
     "data": {
      "text/plain": [
       "<AxesSubplot:xlabel='date2'>"
      ]
     },
     "execution_count": 17,
     "metadata": {},
     "output_type": "execute_result"
    },
    {
     "data": {
      "image/png": "[encoded data removed]",
      "text/plain": [
       "<Figure size 432x288 with 1 Axes>"
      ]
     },
     "metadata": {
      "needs_background": "light"
     },
     "output_type": "display_data"
    }
   ],
   "source": [
    "df_province_largest.resample('7D', on='date2').sum()['workplaces_percent_change_from_baseline'].plot()"
   ]
  },
  {
   "cell_type": "markdown",
   "metadata": {},
   "source": [
    "#### 7. Compare the results above with the results in the google mobility report pdf of your selected province. Discuss the differences and similarities. Please save the mobility report pdf that you use to compare the results with! An example mobility report pdf can be found [here](https://www.gstatic.com/covid19/mobility/2021-09-01_AW_Mobility_Report_en.pdf)"
   ]
  },
  {
   "cell_type": "markdown",
   "metadata": {},
   "source": []
  }
 ],
 "metadata": {
  "interpreter": {
   "hash": "df955ce39d0f31d56d4bb2fe0a613e5326ba60723fd33d8303a3aede8f65715c"
  },
  "kernelspec": {
   "display_name": "Python 3 (ipykernel)",
   "language": "python",
   "name": "python3"
  },
  "language_info": {
   "codemirror_mode": {
    "name": "ipython",
    "version": 3
   },
   "file_extension": ".py",
   "mimetype": "text/x-python",
   "name": "python",
   "nbconvert_exporter": "python",
   "pygments_lexer": "ipython3",
   "version": "3.7.4"
  }
 },
 "nbformat": 4,
 "nbformat_minor": 4
}
